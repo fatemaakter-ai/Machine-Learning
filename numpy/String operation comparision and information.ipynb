{
 "cells": [
  {
   "cell_type": "markdown",
   "id": "c19a9bf8",
   "metadata": {},
   "source": [
    "# String operation comparision and information"
   ]
  },
  {
   "cell_type": "code",
   "execution_count": 1,
   "id": "ca783cd3",
   "metadata": {},
   "outputs": [],
   "source": [
    "import numpy as np"
   ]
  },
  {
   "cell_type": "code",
   "execution_count": 5,
   "id": "591007ea",
   "metadata": {},
   "outputs": [],
   "source": [
    "str1='Fatema Akter'\n",
    "str2='My NAme is '"
   ]
  },
  {
   "cell_type": "code",
   "execution_count": 6,
   "id": "639564eb",
   "metadata": {},
   "outputs": [
    {
     "data": {
      "text/plain": [
       "array('My NAme is Fatema Akter', dtype='<U23')"
      ]
     },
     "execution_count": 6,
     "metadata": {},
     "output_type": "execute_result"
    }
   ],
   "source": [
    "np.char.add(str2,str1)"
   ]
  },
  {
   "cell_type": "code",
   "execution_count": 7,
   "id": "b1458335",
   "metadata": {},
   "outputs": [
    {
     "data": {
      "text/plain": [
       "array('fatema akter', dtype='<U12')"
      ]
     },
     "execution_count": 7,
     "metadata": {},
     "output_type": "execute_result"
    }
   ],
   "source": [
    "np.char.lower(str1)"
   ]
  },
  {
   "cell_type": "code",
   "execution_count": 8,
   "id": "db86dc52",
   "metadata": {},
   "outputs": [
    {
     "data": {
      "text/plain": [
       "array('FATEMA AKTER', dtype='<U12')"
      ]
     },
     "execution_count": 8,
     "metadata": {},
     "output_type": "execute_result"
    }
   ],
   "source": [
    "np.char.upper(str1)"
   ]
  },
  {
   "cell_type": "code",
   "execution_count": 10,
   "id": "f62e7ff9",
   "metadata": {},
   "outputs": [
    {
     "data": {
      "text/plain": [
       "array('*******************Fatema Akter*******************', dtype='<U50')"
      ]
     },
     "execution_count": 10,
     "metadata": {},
     "output_type": "execute_result"
    }
   ],
   "source": [
    "np.char.center(str1,50,fillchar='*')"
   ]
  },
  {
   "cell_type": "code",
   "execution_count": 11,
   "id": "1f9f2aa0",
   "metadata": {},
   "outputs": [
    {
     "data": {
      "text/plain": [
       "array(list(['Fatema', 'Akter']), dtype=object)"
      ]
     },
     "execution_count": 11,
     "metadata": {},
     "output_type": "execute_result"
    }
   ],
   "source": [
    "np.char.split(str1)"
   ]
  },
  {
   "cell_type": "code",
   "execution_count": 14,
   "id": "9c90b1c9",
   "metadata": {},
   "outputs": [
    {
     "data": {
      "text/plain": [
       "array(list(['HEllo', 'Bangladesh']), dtype=object)"
      ]
     },
     "execution_count": 14,
     "metadata": {},
     "output_type": "execute_result"
    }
   ],
   "source": [
    "np.char.splitlines('HEllo\\nBangladesh')"
   ]
  },
  {
   "cell_type": "code",
   "execution_count": 15,
   "id": "b02cae39",
   "metadata": {},
   "outputs": [
    {
     "data": {
      "text/plain": [
       "array(['F.a.t.e.m.a. .A.k.t.e.r', 'M,y, ,N,A,m,e, ,i,s, '], dtype='<U23')"
      ]
     },
     "execution_count": 15,
     "metadata": {},
     "output_type": "execute_result"
    }
   ],
   "source": [
    "np.char.join(['.',','],[str1,str2])"
   ]
  },
  {
   "cell_type": "code",
   "execution_count": 17,
   "id": "e2b924f7",
   "metadata": {},
   "outputs": [
    {
     "data": {
      "text/plain": [
       "array('Fahima Akter', dtype='<U12')"
      ]
     },
     "execution_count": 17,
     "metadata": {},
     "output_type": "execute_result"
    }
   ],
   "source": [
    "np.char.replace(str1,'Fatema','Fahima')"
   ]
  },
  {
   "cell_type": "code",
   "execution_count": 18,
   "id": "aabbfd51",
   "metadata": {},
   "outputs": [
    {
     "data": {
      "text/plain": [
       "array(False)"
      ]
     },
     "execution_count": 18,
     "metadata": {},
     "output_type": "execute_result"
    }
   ],
   "source": [
    "np.char.equal(str1,str2)"
   ]
  },
  {
   "cell_type": "code",
   "execution_count": 19,
   "id": "d71c05f0",
   "metadata": {},
   "outputs": [],
   "source": [
    "str3='yes'\n",
    "str4='yes'"
   ]
  },
  {
   "cell_type": "code",
   "execution_count": 23,
   "id": "f5e2d720",
   "metadata": {},
   "outputs": [
    {
     "data": {
      "text/plain": [
       "array(True)"
      ]
     },
     "execution_count": 23,
     "metadata": {},
     "output_type": "execute_result"
    }
   ],
   "source": [
    "np.char.equal(str3,str4)"
   ]
  },
  {
   "cell_type": "code",
   "execution_count": 24,
   "id": "7541ee41",
   "metadata": {},
   "outputs": [
    {
     "data": {
      "text/plain": [
       "array(2)"
      ]
     },
     "execution_count": 24,
     "metadata": {},
     "output_type": "execute_result"
    }
   ],
   "source": [
    "np.char.count(str1,'a')"
   ]
  },
  {
   "cell_type": "code",
   "execution_count": 25,
   "id": "e24fe766",
   "metadata": {},
   "outputs": [
    {
     "data": {
      "text/plain": [
       "array(2)"
      ]
     },
     "execution_count": 25,
     "metadata": {},
     "output_type": "execute_result"
    }
   ],
   "source": [
    "np.char.find(str1,'t')"
   ]
  },
  {
   "cell_type": "code",
   "execution_count": null,
   "id": "11e6068b",
   "metadata": {},
   "outputs": [],
   "source": []
  }
 ],
 "metadata": {
  "kernelspec": {
   "display_name": "Python 3 (ipykernel)",
   "language": "python",
   "name": "python3"
  },
  "language_info": {
   "codemirror_mode": {
    "name": "ipython",
    "version": 3
   },
   "file_extension": ".py",
   "mimetype": "text/x-python",
   "name": "python",
   "nbconvert_exporter": "python",
   "pygments_lexer": "ipython3",
   "version": "3.9.13"
  }
 },
 "nbformat": 4,
 "nbformat_minor": 5
}
