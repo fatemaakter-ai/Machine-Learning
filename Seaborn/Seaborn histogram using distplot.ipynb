{
 "cells": [
  {
   "cell_type": "markdown",
   "id": "889108a2",
   "metadata": {},
   "source": [
    "# Seaborn histogram using distplot"
   ]
  },
  {
   "cell_type": "code",
   "execution_count": 2,
   "id": "4ed58bde",
   "metadata": {},
   "outputs": [],
   "source": [
    "import seaborn as sns\n",
    "import matplotlib.pyplot as plt\n",
    "import pandas as pd\n",
    "import numpy as np"
   ]
  },
  {
   "cell_type": "code",
   "execution_count": 4,
   "id": "49cdd692",
   "metadata": {},
   "outputs": [
    {
     "data": {
      "text/html": [
       "<div>\n",
       "<style scoped>\n",
       "    .dataframe tbody tr th:only-of-type {\n",
       "        vertical-align: middle;\n",
       "    }\n",
       "\n",
       "    .dataframe tbody tr th {\n",
       "        vertical-align: top;\n",
       "    }\n",
       "\n",
       "    .dataframe thead th {\n",
       "        text-align: right;\n",
       "    }\n",
       "</style>\n",
       "<table border=\"1\" class=\"dataframe\">\n",
       "  <thead>\n",
       "    <tr style=\"text-align: right;\">\n",
       "      <th></th>\n",
       "      <th>total_bill</th>\n",
       "      <th>tip</th>\n",
       "      <th>sex</th>\n",
       "      <th>smoker</th>\n",
       "      <th>day</th>\n",
       "      <th>time</th>\n",
       "      <th>size</th>\n",
       "    </tr>\n",
       "  </thead>\n",
       "  <tbody>\n",
       "    <tr>\n",
       "      <th>0</th>\n",
       "      <td>16.99</td>\n",
       "      <td>1.01</td>\n",
       "      <td>Female</td>\n",
       "      <td>No</td>\n",
       "      <td>Sun</td>\n",
       "      <td>Dinner</td>\n",
       "      <td>2</td>\n",
       "    </tr>\n",
       "    <tr>\n",
       "      <th>1</th>\n",
       "      <td>10.34</td>\n",
       "      <td>1.66</td>\n",
       "      <td>Male</td>\n",
       "      <td>No</td>\n",
       "      <td>Sun</td>\n",
       "      <td>Dinner</td>\n",
       "      <td>3</td>\n",
       "    </tr>\n",
       "    <tr>\n",
       "      <th>2</th>\n",
       "      <td>21.01</td>\n",
       "      <td>3.50</td>\n",
       "      <td>Male</td>\n",
       "      <td>No</td>\n",
       "      <td>Sun</td>\n",
       "      <td>Dinner</td>\n",
       "      <td>3</td>\n",
       "    </tr>\n",
       "    <tr>\n",
       "      <th>3</th>\n",
       "      <td>23.68</td>\n",
       "      <td>3.31</td>\n",
       "      <td>Male</td>\n",
       "      <td>No</td>\n",
       "      <td>Sun</td>\n",
       "      <td>Dinner</td>\n",
       "      <td>2</td>\n",
       "    </tr>\n",
       "    <tr>\n",
       "      <th>4</th>\n",
       "      <td>24.59</td>\n",
       "      <td>3.61</td>\n",
       "      <td>Female</td>\n",
       "      <td>No</td>\n",
       "      <td>Sun</td>\n",
       "      <td>Dinner</td>\n",
       "      <td>4</td>\n",
       "    </tr>\n",
       "    <tr>\n",
       "      <th>...</th>\n",
       "      <td>...</td>\n",
       "      <td>...</td>\n",
       "      <td>...</td>\n",
       "      <td>...</td>\n",
       "      <td>...</td>\n",
       "      <td>...</td>\n",
       "      <td>...</td>\n",
       "    </tr>\n",
       "    <tr>\n",
       "      <th>239</th>\n",
       "      <td>29.03</td>\n",
       "      <td>5.92</td>\n",
       "      <td>Male</td>\n",
       "      <td>No</td>\n",
       "      <td>Sat</td>\n",
       "      <td>Dinner</td>\n",
       "      <td>3</td>\n",
       "    </tr>\n",
       "    <tr>\n",
       "      <th>240</th>\n",
       "      <td>27.18</td>\n",
       "      <td>2.00</td>\n",
       "      <td>Female</td>\n",
       "      <td>Yes</td>\n",
       "      <td>Sat</td>\n",
       "      <td>Dinner</td>\n",
       "      <td>2</td>\n",
       "    </tr>\n",
       "    <tr>\n",
       "      <th>241</th>\n",
       "      <td>22.67</td>\n",
       "      <td>2.00</td>\n",
       "      <td>Male</td>\n",
       "      <td>Yes</td>\n",
       "      <td>Sat</td>\n",
       "      <td>Dinner</td>\n",
       "      <td>2</td>\n",
       "    </tr>\n",
       "    <tr>\n",
       "      <th>242</th>\n",
       "      <td>17.82</td>\n",
       "      <td>1.75</td>\n",
       "      <td>Male</td>\n",
       "      <td>No</td>\n",
       "      <td>Sat</td>\n",
       "      <td>Dinner</td>\n",
       "      <td>2</td>\n",
       "    </tr>\n",
       "    <tr>\n",
       "      <th>243</th>\n",
       "      <td>18.78</td>\n",
       "      <td>3.00</td>\n",
       "      <td>Female</td>\n",
       "      <td>No</td>\n",
       "      <td>Thur</td>\n",
       "      <td>Dinner</td>\n",
       "      <td>2</td>\n",
       "    </tr>\n",
       "  </tbody>\n",
       "</table>\n",
       "<p>244 rows × 7 columns</p>\n",
       "</div>"
      ],
      "text/plain": [
       "     total_bill   tip     sex smoker   day    time  size\n",
       "0         16.99  1.01  Female     No   Sun  Dinner     2\n",
       "1         10.34  1.66    Male     No   Sun  Dinner     3\n",
       "2         21.01  3.50    Male     No   Sun  Dinner     3\n",
       "3         23.68  3.31    Male     No   Sun  Dinner     2\n",
       "4         24.59  3.61  Female     No   Sun  Dinner     4\n",
       "..          ...   ...     ...    ...   ...     ...   ...\n",
       "239       29.03  5.92    Male     No   Sat  Dinner     3\n",
       "240       27.18  2.00  Female    Yes   Sat  Dinner     2\n",
       "241       22.67  2.00    Male    Yes   Sat  Dinner     2\n",
       "242       17.82  1.75    Male     No   Sat  Dinner     2\n",
       "243       18.78  3.00  Female     No  Thur  Dinner     2\n",
       "\n",
       "[244 rows x 7 columns]"
      ]
     },
     "execution_count": 4,
     "metadata": {},
     "output_type": "execute_result"
    }
   ],
   "source": [
    "df=sns.load_dataset('tips')\n",
    "df"
   ]
  },
  {
   "cell_type": "code",
   "execution_count": 6,
   "id": "123156bf",
   "metadata": {},
   "outputs": [
    {
     "data": {
      "text/plain": [
       "<AxesSubplot:xlabel='size', ylabel='Density'>"
      ]
     },
     "execution_count": 6,
     "metadata": {},
     "output_type": "execute_result"
    },
    {
     "data": {
      "image/png": "[encoded data removed]",
      "text/plain": [
       "<Figure size 640x480 with 1 Axes>"
      ]
     },
     "metadata": {},
     "output_type": "display_data"
    }
   ],
   "source": [
    "sns.distplot(df['size'])"
   ]
  },
  {
   "cell_type": "code",
   "execution_count": 7,
   "id": "3fa10dff",
   "metadata": {},
   "outputs": [
    {
     "name": "stderr",
     "output_type": "stream",
     "text": [
      "C:\\Users\\ASUS\\anaconda3\\lib\\site-packages\\seaborn\\distributions.py:2619: FutureWarning: `distplot` is a deprecated function and will be removed in a future version. Please adapt your code to use either `displot` (a figure-level function with similar flexibility) or `histplot` (an axes-level function for histograms).\n",
      "  warnings.warn(msg, FutureWarning)\n"
     ]
    },
    {
     "data": {
      "text/plain": [
       "<AxesSubplot:xlabel='tip', ylabel='Density'>"
      ]
     },
     "execution_count": 7,
     "metadata": {},
     "output_type": "execute_result"
    },
    {
     "data": {
      "image/png": "[encoded data removed]",
      "text/plain": [
       "<Figure size 640x480 with 1 Axes>"
      ]
     },
     "metadata": {},
     "output_type": "display_data"
    }
   ],
   "source": [
    "sns.distplot(df['tip'])"
   ]
  },
  {
   "cell_type": "code",
   "execution_count": 8,
   "id": "33da148b",
   "metadata": {},
   "outputs": [
    {
     "data": {
      "text/plain": [
       "<AxesSubplot:xlabel='tip', ylabel='Count'>"
      ]
     },
     "execution_count": 8,
     "metadata": {},
     "output_type": "execute_result"
    },
    {
     "data": {
      "image/png": "[encoded data removed]",
      "text/plain": [
       "<Figure size 640x480 with 1 Axes>"
      ]
     },
     "metadata": {},
     "output_type": "display_data"
    }
   ],
   "source": [
    "sns.histplot(df['tip'])"
   ]
  },
  {
   "cell_type": "code",
   "execution_count": null,
   "id": "a04ba2c2",
   "metadata": {},
   "outputs": [],
   "source": [
    "Signature:\n",
    "sns.distplot(\n",
    "    a=None,\n",
    "    bins=None,\n",
    "    hist=True,\n",
    "    kde=True,\n",
    "    rug=False,\n",
    "    fit=None,\n",
    "    hist_kws=None,\n",
    "    kde_kws=None,\n",
    "    rug_kws=None,\n",
    "    fit_kws=None,\n",
    "    color=None,\n",
    "    vertical=False,\n",
    "    norm_hist=False,\n",
    "    axlabel=None,\n",
    "    label=None,\n",
    "    ax=None,\n",
    "    x=None,\n",
    ")\n",
    "Docstring:\n",
    "DEPRECATED: Flexibly plot a univariate distribution of observations.\n",
    "\n",
    ".. warning::\n",
    "   This function is deprecated and will be removed in a future version.\n",
    "   Please adapt your code to use one of two new functions:\n",
    "\n",
    "   - :func:`displot`, a figure-level function with a similar flexibility\n",
    "     over the kind of plot to draw\n",
    "   - :func:`histplot`, an axes-level function for plotting histograms,\n",
    "     including with kernel density smoothing\n",
    "\n",
    "This function combines the matplotlib ``hist`` function (with automatic\n",
    "calculation of a good default bin size) with the seaborn :func:`kdeplot`\n",
    "and :func:`rugplot` functions. It can also fit ``scipy.stats``\n",
    "distributions and plot the estimated PDF over the data.\n",
    "\n",
    "Parameters\n",
    "----------\n",
    "a : Series, 1d-array, or list.\n",
    "    Observed data. If this is a Series object with a ``name`` attribute,\n",
    "    the name will be used to label the data axis.\n",
    "bins : argument for matplotlib hist(), or None, optional\n",
    "    Specification of hist bins. If unspecified, as reference rule is used\n",
    "    that tries to find a useful default.\n",
    "hist : bool, optional\n",
    "    Whether to plot a (normed) histogram.\n",
    "kde : bool, optional\n",
    "    Whether to plot a gaussian kernel density estimate.\n",
    "rug : bool, optional\n",
    "    Whether to draw a rugplot on the support axis.\n",
    "fit : random variable object, optional\n",
    "    An object with `fit` method, returning a tuple that can be passed to a\n",
    "    `pdf` method a positional arguments following a grid of values to\n",
    "    evaluate the pdf on.\n",
    "hist_kws : dict, optional\n",
    "    Keyword arguments for :meth:`matplotlib.axes.Axes.hist`.\n",
    "kde_kws : dict, optional\n",
    "    Keyword arguments for :func:`kdeplot`.\n",
    "rug_kws : dict, optional\n",
    "    Keyword arguments for :func:`rugplot`.\n",
    "color : matplotlib color, optional\n",
    "    Color to plot everything but the fitted curve in.\n",
    "vertical : bool, optional\n",
    "    If True, observed values are on y-axis.\n",
    "norm_hist : bool, optional\n",
    "    If True, the histogram height shows a density rather than a count.\n",
    "    This is implied if a KDE or fitted density is plotted.\n",
    "axlabel : string, False, or None, optional\n",
    "    Name for the support axis label. If None, will try to get it\n",
    "    from a.name if False, do not set a label.\n",
    "label : string, optional\n",
    "    Legend label for the relevant component of the plot.\n",
    "ax : matplotlib axis, optional\n",
    "    If provided, plot on this axis.\n",
    "\n",
    "Returns\n",
    "-------\n",
    "ax : matplotlib Axes\n",
    "    Returns the Axes object with the plot for further tweaking.\n",
    "\n",
    "See Also\n",
    "--------\n",
    "kdeplot : Show a univariate or bivariate distribution with a kernel\n",
    "          density estimate.\n",
    "rugplot : Draw small vertical lines to show each observation in a\n",
    "          distribution.\n",
    "\n",
    "Examples\n",
    "--------\n",
    "\n",
    "Show a default plot with a kernel density estimate and histogram with bin\n",
    "size determined automatically with a reference rule:\n",
    "\n",
    ".. plot::\n",
    "    :context: close-figs\n",
    "\n",
    "    >>> import seaborn as sns, numpy as np\n",
    "    >>> sns.set_theme(); np.random.seed(0)\n",
    "    >>> x = np.random.randn(100)\n",
    "    >>> ax = sns.distplot(x)\n",
    "\n",
    "Use Pandas objects to get an informative axis label:\n",
    "\n",
    ".. plot::\n",
    "    :context: close-figs\n",
    "\n",
    "    >>> import pandas as pd\n",
    "    >>> x = pd.Series(x, name=\"x variable\")\n",
    "    >>> ax = sns.distplot(x)\n",
    "\n",
    "Plot the distribution with a kernel density estimate and rug plot:\n",
    "\n",
    ".. plot::\n",
    "    :context: close-figs\n",
    "\n",
    "    >>> ax = sns.distplot(x, rug=True, hist=False)\n",
    "\n",
    "Plot the distribution with a histogram and maximum likelihood gaussian\n",
    "distribution fit:\n",
    "\n",
    ".. plot::\n",
    "    :context: close-figs\n",
    "\n",
    "    >>> from scipy.stats import norm\n",
    "    >>> ax = sns.distplot(x, fit=norm, kde=False)\n",
    "\n",
    "Plot the distribution on the vertical axis:\n",
    "\n",
    ".. plot::\n",
    "    :context: close-figs\n",
    "\n",
    "    >>> ax = sns.distplot(x, vertical=True)\n",
    "\n",
    "Change the color of all the plot elements:\n",
    "\n",
    ".. plot::\n",
    "    :context: close-figs\n",
    "\n",
    "    >>> sns.set_color_codes()\n",
    "    >>> ax = sns.distplot(x, color=\"y\")\n",
    "\n",
    "Pass specific parameters to the underlying plot functions:\n",
    "\n",
    ".. plot::\n",
    "    :context: close-figs\n",
    "\n",
    "    >>> ax = sns.distplot(x, rug=True, rug_kws={\"color\": \"g\"},\n",
    "    ...                   kde_kws={\"color\": \"k\", \"lw\": 3, \"label\": \"KDE\"},\n",
    "    ...                   hist_kws={\"histtype\": \"step\", \"linewidth\": 3,\n",
    "    ...                             \"alpha\": 1, \"color\": \"g\"})\n",
    "File:      c:\\users\\asus\\anaconda3\\lib\\site-packages\\seaborn\\distributions.py\n",
    "Type:      function"
   ]
  }
 ],
 "metadata": {
  "kernelspec": {
   "display_name": "Python 3 (ipykernel)",
   "language": "python",
   "name": "python3"
  },
  "language_info": {
   "codemirror_mode": {
    "name": "ipython",
    "version": 3
   },
   "file_extension": ".py",
   "mimetype": "text/x-python",
   "name": "python",
   "nbconvert_exporter": "python",
   "pygments_lexer": "ipython3",
   "version": "3.9.13"
  }
 },
 "nbformat": 4,
 "nbformat_minor": 5
}
