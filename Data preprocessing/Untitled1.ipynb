{
 "cells": [
  {
   "cell_type": "code",
   "execution_count": 1,
   "id": "8ff5bb5c",
   "metadata": {},
   "outputs": [
    {
     "name": "stdout",
     "output_type": "stream",
     "text": [
      "         city  age   salary e for be  citynum       exp_age\n",
      "0      Mumbai   27  51000.0      yes        4         young\n",
      "1     Newyork   27  48000.0      yes        1         young\n",
      "2      Mumbai   30  52000.0       no        4        senior\n",
      "3     Newyork   14  60000.0       no        1           NaN\n",
      "4      Tokeyo   48      NaN      yes        2  super_senior\n",
      "5      Tokeyo   17  51000.0       no        2         young\n",
      "6   Singapore   33  60000.0       no        3        senior\n",
      "7     Newyork   40  70000.0      yes        1  super_senior\n",
      "8      Mumbai   38      NaN      yes        4  super_senior\n",
      "9   Singapore   25  30000.0       no        3         young\n",
      "10     Tokeyo   70  50000.0       no        2  super_senior\n",
      "11  Singapore   33  49000.0       no        3        senior\n",
      "12    Newyork   40  72000.0      yes        1  super_senior\n",
      "13     Mumbai   31  79000.0      yes        4        senior\n",
      "14  Singapore   37  85000.0       no        3  super_senior\n"
     ]
    }
   ],
   "source": [
    "import pandas as pd\n",
    "\n",
    "def binningdt(col, cut_points, labels=None):\n",
    "    minval = col.min()\n",
    "    maxval = col.max()\n",
    "    brack_point = [minval] + cut_points + [maxval]\n",
    "    \n",
    "    colbin = pd.cut(col, bins=brack_point, labels=labels, include_lowest=False)\n",
    "    return colbin\n",
    "\n",
    "# Your provided DataFrame\n",
    "data = {\n",
    "    'city': ['Mumbai', 'Newyork', 'Mumbai', 'Newyork', 'Tokeyo', 'Tokeyo', 'Singapore', 'Newyork', 'Mumbai', 'Singapore', 'Tokeyo', 'Singapore', 'Newyork', 'Mumbai', 'Singapore'],\n",
    "    'age': [27, 27, 30, 14, 48, 17, 33, 40, 38, 25, 70, 33, 40, 31, 37],\n",
    "    'salary': [51000.0, 48000.0, 52000.0, 60000.0, None, 51000.0, 60000.0, 70000.0, None, 30000.0, 50000.0, 49000.0, 72000.0, 79000.0, 85000.0],\n",
    "    'e for be': ['yes', 'yes', 'no', 'no', 'yes', 'no', 'no', 'yes', 'yes', 'no', 'no', 'no', 'yes', 'yes', 'no'],\n",
    "    'citynum': [4, 1, 4, 1, 2, 2, 3, 1, 4, 3, 2, 3, 1, 4, 3],\n",
    "    'exp_age': [None] * 15  # Initialize with None\n",
    "}\n",
    "\n",
    "df = pd.DataFrame(data)\n",
    "\n",
    "cut_points = [27, 35]\n",
    "labels = ['young', 'senior', 'super_senior']\n",
    "\n",
    "# Apply the binningdt function to the age column and store the result in 'exp_age'\n",
    "df['exp_age'] = binningdt(df['age'], cut_points, labels)\n",
    "\n",
    "print(df)\n"
   ]
  },
  {
   "cell_type": "code",
   "execution_count": null,
   "id": "92372f94",
   "metadata": {},
   "outputs": [],
   "source": []
  }
 ],
 "metadata": {
  "kernelspec": {
   "display_name": "Python 3 (ipykernel)",
   "language": "python",
   "name": "python3"
  },
  "language_info": {
   "codemirror_mode": {
    "name": "ipython",
    "version": 3
   },
   "file_extension": ".py",
   "mimetype": "text/x-python",
   "name": "python",
   "nbconvert_exporter": "python",
   "pygments_lexer": "ipython3",
   "version": "3.9.13"
  }
 },
 "nbformat": 4,
 "nbformat_minor": 5
}
