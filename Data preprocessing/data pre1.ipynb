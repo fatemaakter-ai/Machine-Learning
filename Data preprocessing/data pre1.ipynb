{
 "cells": [
  {
   "cell_type": "code",
   "execution_count": 42,
   "id": "66912ec8",
   "metadata": {},
   "outputs": [],
   "source": [
    "import numpy as np\n",
    "import pandas as pd\n",
    "import matplotlib.pyplot as plt\n",
    "import sklearn\n",
    "from sklearn.impute import SimpleImputer"
   ]
  },
  {
   "cell_type": "code",
   "execution_count": 43,
   "id": "0ab13e27",
   "metadata": {},
   "outputs": [],
   "source": [
    "df=pd.read_csv(\"C:\\\\Users\\\\ASUS\\Documents\\\\Machine learning\\\\Dataset\\\\data preproccesing example.csv\")"
   ]
  },
  {
   "cell_type": "code",
   "execution_count": 44,
   "id": "d3b5e00f",
   "metadata": {},
   "outputs": [
    {
     "data": {
      "text/html": [
       "<div>\n",
       "<style scoped>\n",
       "    .dataframe tbody tr th:only-of-type {\n",
       "        vertical-align: middle;\n",
       "    }\n",
       "\n",
       "    .dataframe tbody tr th {\n",
       "        vertical-align: top;\n",
       "    }\n",
       "\n",
       "    .dataframe thead th {\n",
       "        text-align: right;\n",
       "    }\n",
       "</style>\n",
       "<table border=\"1\" class=\"dataframe\">\n",
       "  <thead>\n",
       "    <tr style=\"text-align: right;\">\n",
       "      <th></th>\n",
       "      <th>city</th>\n",
       "      <th>age</th>\n",
       "      <th>salary</th>\n",
       "      <th>e for be</th>\n",
       "    </tr>\n",
       "  </thead>\n",
       "  <tbody>\n",
       "    <tr>\n",
       "      <th>0</th>\n",
       "      <td>Mumbai</td>\n",
       "      <td>27.0</td>\n",
       "      <td>51000.0</td>\n",
       "      <td>yes</td>\n",
       "    </tr>\n",
       "    <tr>\n",
       "      <th>1</th>\n",
       "      <td>Newyork</td>\n",
       "      <td>27.0</td>\n",
       "      <td>48000.0</td>\n",
       "      <td>yes</td>\n",
       "    </tr>\n",
       "    <tr>\n",
       "      <th>2</th>\n",
       "      <td>Mumbai</td>\n",
       "      <td>30.0</td>\n",
       "      <td>52000.0</td>\n",
       "      <td>no</td>\n",
       "    </tr>\n",
       "    <tr>\n",
       "      <th>3</th>\n",
       "      <td>Newyork</td>\n",
       "      <td>NaN</td>\n",
       "      <td>60000.0</td>\n",
       "      <td>no</td>\n",
       "    </tr>\n",
       "    <tr>\n",
       "      <th>4</th>\n",
       "      <td>Tokeyo</td>\n",
       "      <td>48.0</td>\n",
       "      <td>NaN</td>\n",
       "      <td>yes</td>\n",
       "    </tr>\n",
       "  </tbody>\n",
       "</table>\n",
       "</div>"
      ],
      "text/plain": [
       "      city   age   salary e for be\n",
       "0   Mumbai  27.0  51000.0      yes\n",
       "1  Newyork  27.0  48000.0      yes\n",
       "2   Mumbai  30.0  52000.0       no\n",
       "3  Newyork   NaN  60000.0       no\n",
       "4   Tokeyo  48.0      NaN      yes"
      ]
     },
     "execution_count": 44,
     "metadata": {},
     "output_type": "execute_result"
    }
   ],
   "source": [
    "df.head()"
   ]
  },
  {
   "cell_type": "code",
   "execution_count": 45,
   "id": "3f392907",
   "metadata": {},
   "outputs": [
    {
     "data": {
      "text/plain": [
       "<bound method DataFrame.info of          city   age   salary e for be\n",
       "0      Mumbai  27.0  51000.0      yes\n",
       "1     Newyork  27.0  48000.0      yes\n",
       "2      Mumbai  30.0  52000.0       no\n",
       "3     Newyork   NaN  60000.0       no\n",
       "4      Tokeyo  48.0      NaN      yes\n",
       "5      Tokeyo   NaN  51000.0       no\n",
       "6   Singapore  33.0  60000.0       no\n",
       "7     Newyork  40.0  70000.0      yes\n",
       "8      Mumbai  38.0      NaN      yes\n",
       "9   Singapore  25.0  30000.0       no\n",
       "10     Tokeyo   NaN  50000.0       no\n",
       "11  Singapore  33.0  49000.0       no\n",
       "12    Newyork  40.0  72000.0      yes\n",
       "13     Mumbai  31.0  79000.0      yes\n",
       "14  Singapore  37.0  85000.0       no>"
      ]
     },
     "execution_count": 45,
     "metadata": {},
     "output_type": "execute_result"
    }
   ],
   "source": [
    "df.info"
   ]
  },
  {
   "cell_type": "markdown",
   "id": "d25de5ec",
   "metadata": {},
   "source": [
    "# Independent and dependent variable"
   ]
  },
  {
   "cell_type": "code",
   "execution_count": 46,
   "id": "72734014",
   "metadata": {},
   "outputs": [
    {
     "name": "stdout",
     "output_type": "stream",
     "text": [
      "[['Mumbai' 27.0 51000.0]\n",
      " ['Newyork' 27.0 48000.0]\n",
      " ['Mumbai' 30.0 52000.0]\n",
      " ['Newyork' nan 60000.0]\n",
      " ['Tokeyo' 48.0 nan]\n",
      " ['Tokeyo' nan 51000.0]\n",
      " ['Singapore' 33.0 60000.0]\n",
      " ['Newyork' 40.0 70000.0]\n",
      " ['Mumbai' 38.0 nan]\n",
      " ['Singapore' 25.0 30000.0]\n",
      " ['Tokeyo' nan 50000.0]\n",
      " ['Singapore' 33.0 49000.0]\n",
      " ['Newyork' 40.0 72000.0]\n",
      " ['Mumbai' 31.0 79000.0]\n",
      " ['Singapore' 37.0 85000.0]]\n",
      "['yes' 'yes' 'no' 'no' 'yes' 'no' 'no' 'yes' 'yes' 'no' 'no' 'no' 'yes'\n",
      " 'yes' 'no']\n"
     ]
    }
   ],
   "source": [
    "x=df.iloc[:,:-1].values\n",
    "y=df.iloc[:,-1].values\n",
    "print(x)\n",
    "print(y)"
   ]
  },
  {
   "cell_type": "markdown",
   "id": "e087a392",
   "metadata": {},
   "source": [
    "# Handle missing values"
   ]
  },
  {
   "cell_type": "code",
   "execution_count": 47,
   "id": "d8fb9e12",
   "metadata": {},
   "outputs": [
    {
     "data": {
      "text/plain": [
       "city        0\n",
       "age         3\n",
       "salary      2\n",
       "e for be    0\n",
       "dtype: int64"
      ]
     },
     "execution_count": 47,
     "metadata": {},
     "output_type": "execute_result"
    }
   ],
   "source": [
    "df.isnull().sum()"
   ]
  },
  {
   "cell_type": "code",
   "execution_count": 48,
   "id": "0e31d4eb",
   "metadata": {},
   "outputs": [],
   "source": [
    "# df.dropna(inplace=True)"
   ]
  },
  {
   "cell_type": "code",
   "execution_count": 53,
   "id": "9927da8b",
   "metadata": {},
   "outputs": [
    {
     "name": "stdout",
     "output_type": "stream",
     "text": [
      "[['Mumbai' 27.0 51000.0]\n",
      " ['Newyork' 27.0 48000.0]\n",
      " ['Mumbai' 30.0 52000.0]\n",
      " ['Newyork' 34.083333333333336 60000.0]\n",
      " ['Tokeyo' 48.0 58230.769230769234]\n",
      " ['Tokeyo' 34.083333333333336 51000.0]\n",
      " ['Singapore' 33.0 60000.0]\n",
      " ['Newyork' 40.0 70000.0]\n",
      " ['Mumbai' 38.0 58230.769230769234]\n",
      " ['Singapore' 25.0 30000.0]\n",
      " ['Tokeyo' 34.083333333333336 50000.0]\n",
      " ['Singapore' 33.0 49000.0]\n",
      " ['Newyork' 40.0 72000.0]\n",
      " ['Mumbai' 31.0 79000.0]\n",
      " ['Singapore' 37.0 85000.0]]\n"
     ]
    }
   ],
   "source": [
    "imputer=SimpleImputer(missing_values=np.nan, strategy='mean')\n",
    "imputer.fit(x[:,1:3])\n",
    "x[:,1:3]=imputer.transform(x[:,1:3])\n",
    "print(x)"
   ]
  },
  {
   "cell_type": "markdown",
   "id": "47c4c5ba",
   "metadata": {},
   "source": [
    "# Data Encoding"
   ]
  },
  {
   "cell_type": "code",
   "execution_count": 55,
   "id": "8a51dab5",
   "metadata": {},
   "outputs": [],
   "source": [
    "from sklearn.preprocessing import OneHotEncoder\n",
    "from sklearn.compose import ColumnTransformer"
   ]
  },
  {
   "cell_type": "markdown",
   "id": "a57e361b",
   "metadata": {},
   "source": [
    "# OneHotEncoder"
   ]
  },
  {
   "cell_type": "code",
   "execution_count": 62,
   "id": "eb3b6dd7",
   "metadata": {},
   "outputs": [
    {
     "data": {
      "text/plain": [
       "array([[0.0, 1.0, 0.0, 1.0, 0.0, 0.0, 0.0, 27.0, 51000.0],\n",
       "       [1.0, 0.0, 1.0, 0.0, 1.0, 0.0, 0.0, 27.0, 48000.0],\n",
       "       [0.0, 1.0, 0.0, 1.0, 0.0, 0.0, 0.0, 30.0, 52000.0],\n",
       "       [1.0, 0.0, 1.0, 0.0, 1.0, 0.0, 0.0, 34.083333333333336, 60000.0],\n",
       "       [1.0, 0.0, 1.0, 0.0, 0.0, 0.0, 1.0, 48.0, 58230.769230769234],\n",
       "       [1.0, 0.0, 1.0, 0.0, 0.0, 0.0, 1.0, 34.083333333333336, 51000.0],\n",
       "       [1.0, 0.0, 1.0, 0.0, 0.0, 1.0, 0.0, 33.0, 60000.0],\n",
       "       [1.0, 0.0, 1.0, 0.0, 1.0, 0.0, 0.0, 40.0, 70000.0],\n",
       "       [0.0, 1.0, 0.0, 1.0, 0.0, 0.0, 0.0, 38.0, 58230.769230769234],\n",
       "       [1.0, 0.0, 1.0, 0.0, 0.0, 1.0, 0.0, 25.0, 30000.0],\n",
       "       [1.0, 0.0, 1.0, 0.0, 0.0, 0.0, 1.0, 34.083333333333336, 50000.0],\n",
       "       [1.0, 0.0, 1.0, 0.0, 0.0, 1.0, 0.0, 33.0, 49000.0],\n",
       "       [1.0, 0.0, 1.0, 0.0, 1.0, 0.0, 0.0, 40.0, 72000.0],\n",
       "       [0.0, 1.0, 0.0, 1.0, 0.0, 0.0, 0.0, 31.0, 79000.0],\n",
       "       [1.0, 0.0, 1.0, 0.0, 0.0, 1.0, 0.0, 37.0, 85000.0]], dtype=object)"
      ]
     },
     "execution_count": 62,
     "metadata": {},
     "output_type": "execute_result"
    }
   ],
   "source": [
    "ct=ColumnTransformer(transformers=[('encoder',OneHotEncoder(),[0])],remainder='passthrough')\n",
    "x=np.array(ct.fit_transform(x))\n",
    "x"
   ]
  },
  {
   "cell_type": "markdown",
   "id": "2a58b8a9",
   "metadata": {},
   "source": [
    "# Label Encoder"
   ]
  },
  {
   "cell_type": "code",
   "execution_count": 63,
   "id": "36555b34",
   "metadata": {},
   "outputs": [],
   "source": [
    "from sklearn.preprocessing import LabelEncoder"
   ]
  },
  {
   "cell_type": "code",
   "execution_count": 68,
   "id": "30f4a7c5",
   "metadata": {},
   "outputs": [
    {
     "data": {
      "text/plain": [
       "array([1, 1, 0, 0, 1, 0, 0, 1, 1, 0, 0, 0, 1, 1, 0])"
      ]
     },
     "execution_count": 68,
     "metadata": {},
     "output_type": "execute_result"
    }
   ],
   "source": [
    "le=LabelEncoder()\n",
    "y=le.fit_transform(y)\n",
    "y"
   ]
  },
  {
   "cell_type": "markdown",
   "id": "1362944c",
   "metadata": {},
   "source": [
    "# Split the dataset for training and testing"
   ]
  },
  {
   "cell_type": "code",
   "execution_count": 69,
   "id": "46bcee11",
   "metadata": {},
   "outputs": [],
   "source": [
    "from sklearn.model_selection import train_test_split\n",
    "x_train,x_test,y_train,y_test=train_test_split(x,y,test_size=0.25,random_state=1)"
   ]
  },
  {
   "cell_type": "code",
   "execution_count": 71,
   "id": "90b30ac4",
   "metadata": {},
   "outputs": [
    {
     "data": {
      "text/plain": [
       "array([[1.0, 0.0, 1.0, 0.0, 0.0, 0.0, 1.0, 34.083333333333336, 50000.0],\n",
       "       [1.0, 0.0, 1.0, 0.0, 0.0, 0.0, 1.0, 48.0, 58230.769230769234],\n",
       "       [1.0, 0.0, 1.0, 0.0, 1.0, 0.0, 0.0, 27.0, 48000.0],\n",
       "       [0.0, 1.0, 0.0, 1.0, 0.0, 0.0, 0.0, 31.0, 79000.0],\n",
       "       [0.0, 1.0, 0.0, 1.0, 0.0, 0.0, 0.0, 27.0, 51000.0],\n",
       "       [1.0, 0.0, 1.0, 0.0, 0.0, 1.0, 0.0, 37.0, 85000.0],\n",
       "       [1.0, 0.0, 1.0, 0.0, 0.0, 1.0, 0.0, 25.0, 30000.0],\n",
       "       [0.0, 1.0, 0.0, 1.0, 0.0, 0.0, 0.0, 38.0, 58230.769230769234],\n",
       "       [1.0, 0.0, 1.0, 0.0, 1.0, 0.0, 0.0, 40.0, 72000.0],\n",
       "       [1.0, 0.0, 1.0, 0.0, 0.0, 1.0, 0.0, 33.0, 49000.0],\n",
       "       [1.0, 0.0, 1.0, 0.0, 0.0, 0.0, 1.0, 34.083333333333336, 51000.0]],\n",
       "      dtype=object)"
      ]
     },
     "execution_count": 71,
     "metadata": {},
     "output_type": "execute_result"
    }
   ],
   "source": [
    "x_train"
   ]
  },
  {
   "cell_type": "code",
   "execution_count": 72,
   "id": "c3a955d5",
   "metadata": {},
   "outputs": [
    {
     "data": {
      "text/plain": [
       "array([[1.0, 0.0, 1.0, 0.0, 1.0, 0.0, 0.0, 34.083333333333336, 60000.0],\n",
       "       [1.0, 0.0, 1.0, 0.0, 1.0, 0.0, 0.0, 40.0, 70000.0],\n",
       "       [1.0, 0.0, 1.0, 0.0, 0.0, 1.0, 0.0, 33.0, 60000.0],\n",
       "       [0.0, 1.0, 0.0, 1.0, 0.0, 0.0, 0.0, 30.0, 52000.0]], dtype=object)"
      ]
     },
     "execution_count": 72,
     "metadata": {},
     "output_type": "execute_result"
    }
   ],
   "source": [
    "x_test"
   ]
  },
  {
   "cell_type": "code",
   "execution_count": 73,
   "id": "9a092c6f",
   "metadata": {},
   "outputs": [
    {
     "data": {
      "text/plain": [
       "array([0, 1, 1, 1, 1, 0, 0, 1, 1, 0, 0])"
      ]
     },
     "execution_count": 73,
     "metadata": {},
     "output_type": "execute_result"
    }
   ],
   "source": [
    "y_train"
   ]
  },
  {
   "cell_type": "code",
   "execution_count": 74,
   "id": "52da5bb6",
   "metadata": {},
   "outputs": [
    {
     "data": {
      "text/plain": [
       "array([0, 1, 0, 0])"
      ]
     },
     "execution_count": 74,
     "metadata": {},
     "output_type": "execute_result"
    }
   ],
   "source": [
    "y_test"
   ]
  },
  {
   "cell_type": "markdown",
   "id": "a8574972",
   "metadata": {},
   "source": [
    "# Feature Scaling"
   ]
  },
  {
   "cell_type": "code",
   "execution_count": 75,
   "id": "d3703ca3",
   "metadata": {},
   "outputs": [],
   "source": [
    "from sklearn.preprocessing import StandardScaler"
   ]
  },
  {
   "cell_type": "code",
   "execution_count": 78,
   "id": "1572fcf6",
   "metadata": {},
   "outputs": [
    {
     "data": {
      "text/plain": [
       "array([[1.0, 0.0, 1.0, 0.0, -0.4714045207910318, -0.6123724356957945,\n",
       "        1.632993161855452, 0.010707595557084039, -0.49229409150564374],\n",
       "       [1.0, 0.0, 1.0, 0.0, -0.4714045207910318, -0.6123724356957945,\n",
       "        1.632993161855452, 2.1962468220418416, 0.054854299147937866],\n",
       "       [1.0, 0.0, 1.0, 0.0, 2.121320343559643, -0.6123724356957945,\n",
       "        -0.6123724356957945, -1.1016926095399489, -0.6252460368981028],\n",
       "       [0.0, 1.0, 0.0, 1.0, -0.4714045207910318, -0.6123724356957945,\n",
       "        -0.6123724356957945, -0.47351367019103635, 1.435509116685012],\n",
       "       [0.0, 1.0, 0.0, 1.0, -0.4714045207910318, -0.6123724356957945,\n",
       "        -0.6123724356957945, -1.1016926095399489, -0.4258181188094142],\n",
       "       [1.0, 0.0, 1.0, 0.0, -0.4714045207910318, 1.632993161855452,\n",
       "        -0.6123724356957945, 0.4687547388323323, 1.834364952862389],\n",
       "       [1.0, 0.0, 1.0, 0.0, -0.4714045207910318, 1.632993161855452,\n",
       "        -0.6123724356957945, -1.415782079214405, -1.821813545430234],\n",
       "       [0.0, 1.0, 0.0, 1.0, -0.4714045207910318, -0.6123724356957945,\n",
       "        -0.6123724356957945, 0.6257994736695605, 0.054854299147937866],\n",
       "       [1.0, 0.0, 1.0, 0.0, 2.121320343559643, -0.6123724356957945,\n",
       "        -0.6123724356957945, 0.9398889433440166, 0.9701773078114055],\n",
       "       [1.0, 0.0, 1.0, 0.0, -0.4714045207910318, 1.632993161855452,\n",
       "        -0.6123724356957945, -0.15942420051658013, -0.5587700642018733],\n",
       "       [1.0, 0.0, 1.0, 0.0, -0.4714045207910318, -0.6123724356957945,\n",
       "        1.632993161855452, 0.010707595557084039, -0.4258181188094142]],\n",
       "      dtype=object)"
      ]
     },
     "execution_count": 78,
     "metadata": {},
     "output_type": "execute_result"
    }
   ],
   "source": [
    "scaler=StandardScaler()\n",
    "x_train[:,4:]=scaler.fit_transform(x_train[:,4:])\n",
    "x_train"
   ]
  },
  {
   "cell_type": "code",
   "execution_count": 79,
   "id": "67696330",
   "metadata": {},
   "outputs": [
    {
     "data": {
      "text/plain": [
       "array([[1.0, 0.0, 1.0, 0.0, 1.0, -0.5773502691896258, 0.0,\n",
       "        -0.05164998142274846, -0.07832604499879574],\n",
       "       [1.0, 0.0, 1.0, 0.0, 1.0, -0.5773502691896258, 0.0,\n",
       "        1.5781938768062023, 1.488194854977119],\n",
       "       [1.0, 0.0, 1.0, 0.0, -1.0, 1.7320508075688774, 0.0,\n",
       "        -0.3500720963097402, -0.07832604499879574],\n",
       "       [0.0, 1.0, 0.0, 1.0, -1.0, -0.5773502691896258, 0.0,\n",
       "        -1.1764717990737155, -1.3315427649795275]], dtype=object)"
      ]
     },
     "execution_count": 79,
     "metadata": {},
     "output_type": "execute_result"
    }
   ],
   "source": [
    "x_test[:,4:]=scaler.fit_transform(x_test[:,4:])\n",
    "x_test"
   ]
  },
  {
   "cell_type": "markdown",
   "id": "767748f0",
   "metadata": {},
   "source": [
    "# Outlier"
   ]
  },
  {
   "cell_type": "code",
   "execution_count": null,
   "id": "07e36d46",
   "metadata": {},
   "outputs": [],
   "source": []
  }
 ],
 "metadata": {
  "kernelspec": {
   "display_name": "Python 3 (ipykernel)",
   "language": "python",
   "name": "python3"
  },
  "language_info": {
   "codemirror_mode": {
    "name": "ipython",
    "version": 3
   },
   "file_extension": ".py",
   "mimetype": "text/x-python",
   "name": "python",
   "nbconvert_exporter": "python",
   "pygments_lexer": "ipython3",
   "version": "3.9.13"
  }
 },
 "nbformat": 4,
 "nbformat_minor": 5
}
