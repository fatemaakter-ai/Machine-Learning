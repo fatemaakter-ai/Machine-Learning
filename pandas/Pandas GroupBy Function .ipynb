{
 "cells": [
  {
   "cell_type": "markdown",
   "id": "171d6cec",
   "metadata": {},
   "source": [
    "# Pandas GroupBy Function "
   ]
  },
  {
   "cell_type": "code",
   "execution_count": 34,
   "id": "10d1fc79",
   "metadata": {},
   "outputs": [],
   "source": [
    "import pandas as pd"
   ]
  },
  {
   "cell_type": "code",
   "execution_count": 35,
   "id": "aef9dbc2",
   "metadata": {},
   "outputs": [
    {
     "data": {
      "text/html": [
       "<div>\n",
       "<style scoped>\n",
       "    .dataframe tbody tr th:only-of-type {\n",
       "        vertical-align: middle;\n",
       "    }\n",
       "\n",
       "    .dataframe tbody tr th {\n",
       "        vertical-align: top;\n",
       "    }\n",
       "\n",
       "    .dataframe thead th {\n",
       "        text-align: right;\n",
       "    }\n",
       "</style>\n",
       "<table border=\"1\" class=\"dataframe\">\n",
       "  <thead>\n",
       "    <tr style=\"text-align: right;\">\n",
       "      <th></th>\n",
       "      <th>Student ID</th>\n",
       "      <th>Section</th>\n",
       "      <th>Class</th>\n",
       "      <th>Study hrs</th>\n",
       "      <th>Social Media usage hrs</th>\n",
       "      <th>Percentage</th>\n",
       "    </tr>\n",
       "  </thead>\n",
       "  <tbody>\n",
       "    <tr>\n",
       "      <th>0</th>\n",
       "      <td>1001</td>\n",
       "      <td>A</td>\n",
       "      <td>10</td>\n",
       "      <td>2</td>\n",
       "      <td>3</td>\n",
       "      <td>50</td>\n",
       "    </tr>\n",
       "    <tr>\n",
       "      <th>1</th>\n",
       "      <td>1002</td>\n",
       "      <td>B</td>\n",
       "      <td>10</td>\n",
       "      <td>6</td>\n",
       "      <td>2</td>\n",
       "      <td>80</td>\n",
       "    </tr>\n",
       "    <tr>\n",
       "      <th>2</th>\n",
       "      <td>1003</td>\n",
       "      <td>A</td>\n",
       "      <td>10</td>\n",
       "      <td>3</td>\n",
       "      <td>2</td>\n",
       "      <td>60</td>\n",
       "    </tr>\n",
       "    <tr>\n",
       "      <th>3</th>\n",
       "      <td>1004</td>\n",
       "      <td>C</td>\n",
       "      <td>11</td>\n",
       "      <td>0</td>\n",
       "      <td>1</td>\n",
       "      <td>45</td>\n",
       "    </tr>\n",
       "    <tr>\n",
       "      <th>4</th>\n",
       "      <td>1005</td>\n",
       "      <td>C</td>\n",
       "      <td>12</td>\n",
       "      <td>5</td>\n",
       "      <td>2</td>\n",
       "      <td>75</td>\n",
       "    </tr>\n",
       "  </tbody>\n",
       "</table>\n",
       "</div>"
      ],
      "text/plain": [
       "   Student ID Section  Class  Study hrs  Social Media usage hrs  Percentage\n",
       "0        1001       A     10          2                       3          50\n",
       "1        1002       B     10          6                       2          80\n",
       "2        1003       A     10          3                       2          60\n",
       "3        1004       C     11          0                       1          45\n",
       "4        1005       C     12          5                       2          75"
      ]
     },
     "execution_count": 35,
     "metadata": {},
     "output_type": "execute_result"
    }
   ],
   "source": [
    "df=pd.read_csv(\"C:\\\\Users\\\\ASUS\\\\Downloads\\\\student_result1.csv\")\n",
    "df"
   ]
  },
  {
   "cell_type": "code",
   "execution_count": 36,
   "id": "e719feac",
   "metadata": {},
   "outputs": [
    {
     "data": {
      "text/plain": [
       "<pandas.core.groupby.generic.DataFrameGroupBy object at 0x000001E4F27E8F70>"
      ]
     },
     "execution_count": 36,
     "metadata": {},
     "output_type": "execute_result"
    }
   ],
   "source": [
    "gr1=df.groupby(by='Class')\n",
    "gr1"
   ]
  },
  {
   "cell_type": "code",
   "execution_count": 37,
   "id": "308a727c",
   "metadata": {},
   "outputs": [
    {
     "data": {
      "text/plain": [
       "{10: [0, 1, 2], 11: [3], 12: [4]}"
      ]
     },
     "execution_count": 37,
     "metadata": {},
     "output_type": "execute_result"
    }
   ],
   "source": [
    "gr1.groups"
   ]
  },
  {
   "cell_type": "code",
   "execution_count": 38,
   "id": "916a73ec",
   "metadata": {},
   "outputs": [
    {
     "data": {
      "text/plain": [
       "<pandas.core.groupby.generic.DataFrameGroupBy object at 0x000001E4EFEFC4C0>"
      ]
     },
     "execution_count": 38,
     "metadata": {},
     "output_type": "execute_result"
    }
   ],
   "source": [
    "gr2=df.groupby(by='Section')\n",
    "gr2"
   ]
  },
  {
   "cell_type": "code",
   "execution_count": 39,
   "id": "48d5f3a8",
   "metadata": {},
   "outputs": [
    {
     "data": {
      "text/plain": [
       "{'A': [0, 2], 'B': [1], 'C': [3, 4]}"
      ]
     },
     "execution_count": 39,
     "metadata": {},
     "output_type": "execute_result"
    }
   ],
   "source": [
    "gr2.groups"
   ]
  },
  {
   "cell_type": "code",
   "execution_count": 40,
   "id": "e0e35703",
   "metadata": {},
   "outputs": [
    {
     "data": {
      "text/plain": [
       "{(1, 45): [3], (2, 60): [2], (2, 75): [4], (2, 80): [1], (3, 50): [0]}"
      ]
     },
     "execution_count": 40,
     "metadata": {},
     "output_type": "execute_result"
    }
   ],
   "source": [
    "gr3=df.groupby(['Social Media usage hrs','Percentage']).groups\n",
    "gr3"
   ]
  },
  {
   "cell_type": "code",
   "execution_count": 41,
   "id": "72c86e43",
   "metadata": {},
   "outputs": [
    {
     "name": "stdout",
     "output_type": "stream",
     "text": [
      "A\n",
      "   Student ID Section  Class  Study hrs  Social Media usage hrs  Percentage\n",
      "0        1001       A     10          2                       3          50\n",
      "2        1003       A     10          3                       2          60\n",
      "B\n",
      "   Student ID Section  Class  Study hrs  Social Media usage hrs  Percentage\n",
      "1        1002       B     10          6                       2          80\n",
      "C\n",
      "   Student ID Section  Class  Study hrs  Social Media usage hrs  Percentage\n",
      "3        1004       C     11          0                       1          45\n",
      "4        1005       C     12          5                       2          75\n"
     ]
    }
   ],
   "source": [
    "for section, df_1 in gr2:\n",
    "    print(section)\n",
    "    print(df_1)"
   ]
  },
  {
   "cell_type": "code",
   "execution_count": 42,
   "id": "ca2f4185",
   "metadata": {},
   "outputs": [
    {
     "data": {
      "text/plain": [
       "[('A',\n",
       "     Student ID Section  Class  Study hrs  Social Media usage hrs  Percentage\n",
       "  0        1001       A     10          2                       3          50\n",
       "  2        1003       A     10          3                       2          60),\n",
       " ('B',\n",
       "     Student ID Section  Class  Study hrs  Social Media usage hrs  Percentage\n",
       "  1        1002       B     10          6                       2          80),\n",
       " ('C',\n",
       "     Student ID Section  Class  Study hrs  Social Media usage hrs  Percentage\n",
       "  3        1004       C     11          0                       1          45\n",
       "  4        1005       C     12          5                       2          75)]"
      ]
     },
     "execution_count": 42,
     "metadata": {},
     "output_type": "execute_result"
    }
   ],
   "source": [
    "list(gr2)"
   ]
  },
  {
   "cell_type": "code",
   "execution_count": 43,
   "id": "05b4659c",
   "metadata": {},
   "outputs": [
    {
     "data": {
      "text/plain": [
       "{'A':    Student ID Section  Class  Study hrs  Social Media usage hrs  Percentage\n",
       " 0        1001       A     10          2                       3          50\n",
       " 2        1003       A     10          3                       2          60,\n",
       " 'B':    Student ID Section  Class  Study hrs  Social Media usage hrs  Percentage\n",
       " 1        1002       B     10          6                       2          80,\n",
       " 'C':    Student ID Section  Class  Study hrs  Social Media usage hrs  Percentage\n",
       " 3        1004       C     11          0                       1          45\n",
       " 4        1005       C     12          5                       2          75}"
      ]
     },
     "execution_count": 43,
     "metadata": {},
     "output_type": "execute_result"
    }
   ],
   "source": [
    "dict(list(gr2))"
   ]
  },
  {
   "cell_type": "code",
   "execution_count": 59,
   "id": "34996175",
   "metadata": {},
   "outputs": [
    {
     "data": {
      "text/plain": [
       "<pandas.core.groupby.generic.DataFrameGroupBy object at 0x000001E4F2AA1DC0>"
      ]
     },
     "execution_count": 59,
     "metadata": {},
     "output_type": "execute_result"
    }
   ],
   "source": [
    "gr4=df.groupby('Section').get_group('C')\n",
    "gr4"
   ]
  },
  {
   "cell_type": "code",
   "execution_count": null,
   "id": "f7f32bf6",
   "metadata": {},
   "outputs": [],
   "source": [
    "gr5=df.groupby('Class').get_group(10)\n",
    "gr5"
   ]
  },
  {
   "cell_type": "code",
   "execution_count": 49,
   "id": "af8e4ed1",
   "metadata": {},
   "outputs": [
    {
     "data": {
      "text/plain": [
       "{10: [0, 1, 2], 11: [3], 12: [4]}"
      ]
     },
     "execution_count": 49,
     "metadata": {},
     "output_type": "execute_result"
    }
   ],
   "source": [
    "gr1=df.groupby(by='Class').groups\n",
    "gr1"
   ]
  },
  {
   "cell_type": "code",
   "execution_count": 51,
   "id": "19ac971d",
   "metadata": {},
   "outputs": [
    {
     "data": {
      "text/html": [
       "<div>\n",
       "<style scoped>\n",
       "    .dataframe tbody tr th:only-of-type {\n",
       "        vertical-align: middle;\n",
       "    }\n",
       "\n",
       "    .dataframe tbody tr th {\n",
       "        vertical-align: top;\n",
       "    }\n",
       "\n",
       "    .dataframe thead th {\n",
       "        text-align: right;\n",
       "    }\n",
       "</style>\n",
       "<table border=\"1\" class=\"dataframe\">\n",
       "  <thead>\n",
       "    <tr style=\"text-align: right;\">\n",
       "      <th></th>\n",
       "      <th>Student ID</th>\n",
       "      <th>Section</th>\n",
       "      <th>Class</th>\n",
       "      <th>Study hrs</th>\n",
       "      <th>Social Media usage hrs</th>\n",
       "      <th>Percentage</th>\n",
       "    </tr>\n",
       "  </thead>\n",
       "  <tbody>\n",
       "    <tr>\n",
       "      <th>0</th>\n",
       "      <td>1001</td>\n",
       "      <td>A</td>\n",
       "      <td>10</td>\n",
       "      <td>2</td>\n",
       "      <td>3</td>\n",
       "      <td>50</td>\n",
       "    </tr>\n",
       "    <tr>\n",
       "      <th>1</th>\n",
       "      <td>1002</td>\n",
       "      <td>B</td>\n",
       "      <td>10</td>\n",
       "      <td>6</td>\n",
       "      <td>2</td>\n",
       "      <td>80</td>\n",
       "    </tr>\n",
       "    <tr>\n",
       "      <th>2</th>\n",
       "      <td>1003</td>\n",
       "      <td>A</td>\n",
       "      <td>10</td>\n",
       "      <td>3</td>\n",
       "      <td>2</td>\n",
       "      <td>60</td>\n",
       "    </tr>\n",
       "  </tbody>\n",
       "</table>\n",
       "</div>"
      ],
      "text/plain": [
       "   Student ID Section  Class  Study hrs  Social Media usage hrs  Percentage\n",
       "0        1001       A     10          2                       3          50\n",
       "1        1002       B     10          6                       2          80\n",
       "2        1003       A     10          3                       2          60"
      ]
     },
     "execution_count": 51,
     "metadata": {},
     "output_type": "execute_result"
    }
   ],
   "source": [
    "gr6=df.groupby('Class').get_group(10)\n",
    "gr6"
   ]
  },
  {
   "cell_type": "code",
   "execution_count": 53,
   "id": "04af5c0b",
   "metadata": {},
   "outputs": [
    {
     "data": {
      "text/plain": [
       "Student ID                3006\n",
       "Section                    ABA\n",
       "Class                       30\n",
       "Study hrs                   11\n",
       "Social Media usage hrs       7\n",
       "Percentage                 190\n",
       "dtype: object"
      ]
     },
     "execution_count": 53,
     "metadata": {},
     "output_type": "execute_result"
    }
   ],
   "source": [
    "gr6.sum()"
   ]
  },
  {
   "cell_type": "code",
   "execution_count": 54,
   "id": "9b5f1e4a",
   "metadata": {},
   "outputs": [
    {
     "name": "stderr",
     "output_type": "stream",
     "text": [
      "C:\\Users\\ASUS\\AppData\\Local\\Temp\\ipykernel_7136\\3182035070.py:1: FutureWarning: Dropping of nuisance columns in DataFrame reductions (with 'numeric_only=None') is deprecated; in a future version this will raise TypeError.  Select only valid columns before calling the reduction.\n",
      "  gr6.mean()\n"
     ]
    },
    {
     "data": {
      "text/plain": [
       "Student ID                1002.000000\n",
       "Class                       10.000000\n",
       "Study hrs                    3.666667\n",
       "Social Media usage hrs       2.333333\n",
       "Percentage                  63.333333\n",
       "dtype: float64"
      ]
     },
     "execution_count": 54,
     "metadata": {},
     "output_type": "execute_result"
    }
   ],
   "source": [
    "gr6.mean()"
   ]
  },
  {
   "cell_type": "code",
   "execution_count": 55,
   "id": "dd11020b",
   "metadata": {},
   "outputs": [
    {
     "name": "stderr",
     "output_type": "stream",
     "text": [
      "C:\\Users\\ASUS\\AppData\\Local\\Temp\\ipykernel_7136\\3406146259.py:1: FutureWarning: Dropping of nuisance columns in DataFrame reductions (with 'numeric_only=None') is deprecated; in a future version this will raise TypeError.  Select only valid columns before calling the reduction.\n",
      "  gr6.median()\n"
     ]
    },
    {
     "data": {
      "text/plain": [
       "Student ID                1002.0\n",
       "Class                       10.0\n",
       "Study hrs                    3.0\n",
       "Social Media usage hrs       2.0\n",
       "Percentage                  60.0\n",
       "dtype: float64"
      ]
     },
     "execution_count": 55,
     "metadata": {},
     "output_type": "execute_result"
    }
   ],
   "source": [
    "gr6.median()"
   ]
  },
  {
   "cell_type": "code",
   "execution_count": 57,
   "id": "d70be98a",
   "metadata": {},
   "outputs": [
    {
     "data": {
      "text/html": [
       "<div>\n",
       "<style scoped>\n",
       "    .dataframe tbody tr th:only-of-type {\n",
       "        vertical-align: middle;\n",
       "    }\n",
       "\n",
       "    .dataframe tbody tr th {\n",
       "        vertical-align: top;\n",
       "    }\n",
       "\n",
       "    .dataframe thead th {\n",
       "        text-align: right;\n",
       "    }\n",
       "</style>\n",
       "<table border=\"1\" class=\"dataframe\">\n",
       "  <thead>\n",
       "    <tr style=\"text-align: right;\">\n",
       "      <th></th>\n",
       "      <th>Student ID</th>\n",
       "      <th>Class</th>\n",
       "      <th>Study hrs</th>\n",
       "      <th>Social Media usage hrs</th>\n",
       "      <th>Percentage</th>\n",
       "    </tr>\n",
       "  </thead>\n",
       "  <tbody>\n",
       "    <tr>\n",
       "      <th>count</th>\n",
       "      <td>3.0</td>\n",
       "      <td>3.0</td>\n",
       "      <td>3.000000</td>\n",
       "      <td>3.000000</td>\n",
       "      <td>3.000000</td>\n",
       "    </tr>\n",
       "    <tr>\n",
       "      <th>mean</th>\n",
       "      <td>1002.0</td>\n",
       "      <td>10.0</td>\n",
       "      <td>3.666667</td>\n",
       "      <td>2.333333</td>\n",
       "      <td>63.333333</td>\n",
       "    </tr>\n",
       "    <tr>\n",
       "      <th>std</th>\n",
       "      <td>1.0</td>\n",
       "      <td>0.0</td>\n",
       "      <td>2.081666</td>\n",
       "      <td>0.577350</td>\n",
       "      <td>15.275252</td>\n",
       "    </tr>\n",
       "    <tr>\n",
       "      <th>min</th>\n",
       "      <td>1001.0</td>\n",
       "      <td>10.0</td>\n",
       "      <td>2.000000</td>\n",
       "      <td>2.000000</td>\n",
       "      <td>50.000000</td>\n",
       "    </tr>\n",
       "    <tr>\n",
       "      <th>25%</th>\n",
       "      <td>1001.5</td>\n",
       "      <td>10.0</td>\n",
       "      <td>2.500000</td>\n",
       "      <td>2.000000</td>\n",
       "      <td>55.000000</td>\n",
       "    </tr>\n",
       "    <tr>\n",
       "      <th>50%</th>\n",
       "      <td>1002.0</td>\n",
       "      <td>10.0</td>\n",
       "      <td>3.000000</td>\n",
       "      <td>2.000000</td>\n",
       "      <td>60.000000</td>\n",
       "    </tr>\n",
       "    <tr>\n",
       "      <th>75%</th>\n",
       "      <td>1002.5</td>\n",
       "      <td>10.0</td>\n",
       "      <td>4.500000</td>\n",
       "      <td>2.500000</td>\n",
       "      <td>70.000000</td>\n",
       "    </tr>\n",
       "    <tr>\n",
       "      <th>max</th>\n",
       "      <td>1003.0</td>\n",
       "      <td>10.0</td>\n",
       "      <td>6.000000</td>\n",
       "      <td>3.000000</td>\n",
       "      <td>80.000000</td>\n",
       "    </tr>\n",
       "  </tbody>\n",
       "</table>\n",
       "</div>"
      ],
      "text/plain": [
       "       Student ID  Class  Study hrs  Social Media usage hrs  Percentage\n",
       "count         3.0    3.0   3.000000                3.000000    3.000000\n",
       "mean       1002.0   10.0   3.666667                2.333333   63.333333\n",
       "std           1.0    0.0   2.081666                0.577350   15.275252\n",
       "min        1001.0   10.0   2.000000                2.000000   50.000000\n",
       "25%        1001.5   10.0   2.500000                2.000000   55.000000\n",
       "50%        1002.0   10.0   3.000000                2.000000   60.000000\n",
       "75%        1002.5   10.0   4.500000                2.500000   70.000000\n",
       "max        1003.0   10.0   6.000000                3.000000   80.000000"
      ]
     },
     "execution_count": 57,
     "metadata": {},
     "output_type": "execute_result"
    }
   ],
   "source": [
    "gr6.describe()"
   ]
  },
  {
   "cell_type": "code",
   "execution_count": 60,
   "id": "6f5b0dd1",
   "metadata": {},
   "outputs": [
    {
     "data": {
      "text/html": [
       "<div>\n",
       "<style scoped>\n",
       "    .dataframe tbody tr th:only-of-type {\n",
       "        vertical-align: middle;\n",
       "    }\n",
       "\n",
       "    .dataframe tbody tr th {\n",
       "        vertical-align: top;\n",
       "    }\n",
       "\n",
       "    .dataframe thead tr th {\n",
       "        text-align: left;\n",
       "    }\n",
       "\n",
       "    .dataframe thead tr:last-of-type th {\n",
       "        text-align: right;\n",
       "    }\n",
       "</style>\n",
       "<table border=\"1\" class=\"dataframe\">\n",
       "  <thead>\n",
       "    <tr>\n",
       "      <th></th>\n",
       "      <th colspan=\"3\" halign=\"left\">Student ID</th>\n",
       "      <th colspan=\"3\" halign=\"left\">Class</th>\n",
       "      <th colspan=\"3\" halign=\"left\">Study hrs</th>\n",
       "      <th colspan=\"3\" halign=\"left\">Social Media usage hrs</th>\n",
       "      <th colspan=\"3\" halign=\"left\">Percentage</th>\n",
       "    </tr>\n",
       "    <tr>\n",
       "      <th></th>\n",
       "      <th>max</th>\n",
       "      <th>mean</th>\n",
       "      <th>sum</th>\n",
       "      <th>max</th>\n",
       "      <th>mean</th>\n",
       "      <th>sum</th>\n",
       "      <th>max</th>\n",
       "      <th>mean</th>\n",
       "      <th>sum</th>\n",
       "      <th>max</th>\n",
       "      <th>mean</th>\n",
       "      <th>sum</th>\n",
       "      <th>max</th>\n",
       "      <th>mean</th>\n",
       "      <th>sum</th>\n",
       "    </tr>\n",
       "    <tr>\n",
       "      <th>Section</th>\n",
       "      <th></th>\n",
       "      <th></th>\n",
       "      <th></th>\n",
       "      <th></th>\n",
       "      <th></th>\n",
       "      <th></th>\n",
       "      <th></th>\n",
       "      <th></th>\n",
       "      <th></th>\n",
       "      <th></th>\n",
       "      <th></th>\n",
       "      <th></th>\n",
       "      <th></th>\n",
       "      <th></th>\n",
       "      <th></th>\n",
       "    </tr>\n",
       "  </thead>\n",
       "  <tbody>\n",
       "    <tr>\n",
       "      <th>A</th>\n",
       "      <td>1003</td>\n",
       "      <td>1002.0</td>\n",
       "      <td>2004</td>\n",
       "      <td>10</td>\n",
       "      <td>10.0</td>\n",
       "      <td>20</td>\n",
       "      <td>3</td>\n",
       "      <td>2.5</td>\n",
       "      <td>5</td>\n",
       "      <td>3</td>\n",
       "      <td>2.5</td>\n",
       "      <td>5</td>\n",
       "      <td>60</td>\n",
       "      <td>55.0</td>\n",
       "      <td>110</td>\n",
       "    </tr>\n",
       "    <tr>\n",
       "      <th>B</th>\n",
       "      <td>1002</td>\n",
       "      <td>1002.0</td>\n",
       "      <td>1002</td>\n",
       "      <td>10</td>\n",
       "      <td>10.0</td>\n",
       "      <td>10</td>\n",
       "      <td>6</td>\n",
       "      <td>6.0</td>\n",
       "      <td>6</td>\n",
       "      <td>2</td>\n",
       "      <td>2.0</td>\n",
       "      <td>2</td>\n",
       "      <td>80</td>\n",
       "      <td>80.0</td>\n",
       "      <td>80</td>\n",
       "    </tr>\n",
       "    <tr>\n",
       "      <th>C</th>\n",
       "      <td>1005</td>\n",
       "      <td>1004.5</td>\n",
       "      <td>2009</td>\n",
       "      <td>12</td>\n",
       "      <td>11.5</td>\n",
       "      <td>23</td>\n",
       "      <td>5</td>\n",
       "      <td>2.5</td>\n",
       "      <td>5</td>\n",
       "      <td>2</td>\n",
       "      <td>1.5</td>\n",
       "      <td>3</td>\n",
       "      <td>75</td>\n",
       "      <td>60.0</td>\n",
       "      <td>120</td>\n",
       "    </tr>\n",
       "  </tbody>\n",
       "</table>\n",
       "</div>"
      ],
      "text/plain": [
       "        Student ID               Class           Study hrs           \\\n",
       "               max    mean   sum   max  mean sum       max mean sum   \n",
       "Section                                                               \n",
       "A             1003  1002.0  2004    10  10.0  20         3  2.5   5   \n",
       "B             1002  1002.0  1002    10  10.0  10         6  6.0   6   \n",
       "C             1005  1004.5  2009    12  11.5  23         5  2.5   5   \n",
       "\n",
       "        Social Media usage hrs          Percentage             \n",
       "                           max mean sum        max  mean  sum  \n",
       "Section                                                        \n",
       "A                            3  2.5   5         60  55.0  110  \n",
       "B                            2  2.0   2         80  80.0   80  \n",
       "C                            2  1.5   3         75  60.0  120  "
      ]
     },
     "execution_count": 60,
     "metadata": {},
     "output_type": "execute_result"
    }
   ],
   "source": [
    "gr2.agg(['max','mean','sum'])"
   ]
  },
  {
   "cell_type": "code",
   "execution_count": 61,
   "id": "a1570ed6",
   "metadata": {},
   "outputs": [
    {
     "data": {
      "text/html": [
       "<div>\n",
       "<style scoped>\n",
       "    .dataframe tbody tr th:only-of-type {\n",
       "        vertical-align: middle;\n",
       "    }\n",
       "\n",
       "    .dataframe tbody tr th {\n",
       "        vertical-align: top;\n",
       "    }\n",
       "\n",
       "    .dataframe thead tr th {\n",
       "        text-align: left;\n",
       "    }\n",
       "\n",
       "    .dataframe thead tr:last-of-type th {\n",
       "        text-align: right;\n",
       "    }\n",
       "</style>\n",
       "<table border=\"1\" class=\"dataframe\">\n",
       "  <thead>\n",
       "    <tr>\n",
       "      <th></th>\n",
       "      <th colspan=\"8\" halign=\"left\">Student ID</th>\n",
       "      <th colspan=\"2\" halign=\"left\">Class</th>\n",
       "      <th>...</th>\n",
       "      <th colspan=\"2\" halign=\"left\">Social Media usage hrs</th>\n",
       "      <th colspan=\"8\" halign=\"left\">Percentage</th>\n",
       "    </tr>\n",
       "    <tr>\n",
       "      <th></th>\n",
       "      <th>count</th>\n",
       "      <th>mean</th>\n",
       "      <th>std</th>\n",
       "      <th>min</th>\n",
       "      <th>25%</th>\n",
       "      <th>50%</th>\n",
       "      <th>75%</th>\n",
       "      <th>max</th>\n",
       "      <th>count</th>\n",
       "      <th>mean</th>\n",
       "      <th>...</th>\n",
       "      <th>75%</th>\n",
       "      <th>max</th>\n",
       "      <th>count</th>\n",
       "      <th>mean</th>\n",
       "      <th>std</th>\n",
       "      <th>min</th>\n",
       "      <th>25%</th>\n",
       "      <th>50%</th>\n",
       "      <th>75%</th>\n",
       "      <th>max</th>\n",
       "    </tr>\n",
       "    <tr>\n",
       "      <th>Section</th>\n",
       "      <th></th>\n",
       "      <th></th>\n",
       "      <th></th>\n",
       "      <th></th>\n",
       "      <th></th>\n",
       "      <th></th>\n",
       "      <th></th>\n",
       "      <th></th>\n",
       "      <th></th>\n",
       "      <th></th>\n",
       "      <th></th>\n",
       "      <th></th>\n",
       "      <th></th>\n",
       "      <th></th>\n",
       "      <th></th>\n",
       "      <th></th>\n",
       "      <th></th>\n",
       "      <th></th>\n",
       "      <th></th>\n",
       "      <th></th>\n",
       "      <th></th>\n",
       "    </tr>\n",
       "  </thead>\n",
       "  <tbody>\n",
       "    <tr>\n",
       "      <th>A</th>\n",
       "      <td>2.0</td>\n",
       "      <td>1002.0</td>\n",
       "      <td>1.414214</td>\n",
       "      <td>1001.0</td>\n",
       "      <td>1001.50</td>\n",
       "      <td>1002.0</td>\n",
       "      <td>1002.50</td>\n",
       "      <td>1003.0</td>\n",
       "      <td>2.0</td>\n",
       "      <td>10.0</td>\n",
       "      <td>...</td>\n",
       "      <td>2.75</td>\n",
       "      <td>3.0</td>\n",
       "      <td>2.0</td>\n",
       "      <td>55.0</td>\n",
       "      <td>7.071068</td>\n",
       "      <td>50.0</td>\n",
       "      <td>52.5</td>\n",
       "      <td>55.0</td>\n",
       "      <td>57.5</td>\n",
       "      <td>60.0</td>\n",
       "    </tr>\n",
       "    <tr>\n",
       "      <th>B</th>\n",
       "      <td>1.0</td>\n",
       "      <td>1002.0</td>\n",
       "      <td>NaN</td>\n",
       "      <td>1002.0</td>\n",
       "      <td>1002.00</td>\n",
       "      <td>1002.0</td>\n",
       "      <td>1002.00</td>\n",
       "      <td>1002.0</td>\n",
       "      <td>1.0</td>\n",
       "      <td>10.0</td>\n",
       "      <td>...</td>\n",
       "      <td>2.00</td>\n",
       "      <td>2.0</td>\n",
       "      <td>1.0</td>\n",
       "      <td>80.0</td>\n",
       "      <td>NaN</td>\n",
       "      <td>80.0</td>\n",
       "      <td>80.0</td>\n",
       "      <td>80.0</td>\n",
       "      <td>80.0</td>\n",
       "      <td>80.0</td>\n",
       "    </tr>\n",
       "    <tr>\n",
       "      <th>C</th>\n",
       "      <td>2.0</td>\n",
       "      <td>1004.5</td>\n",
       "      <td>0.707107</td>\n",
       "      <td>1004.0</td>\n",
       "      <td>1004.25</td>\n",
       "      <td>1004.5</td>\n",
       "      <td>1004.75</td>\n",
       "      <td>1005.0</td>\n",
       "      <td>2.0</td>\n",
       "      <td>11.5</td>\n",
       "      <td>...</td>\n",
       "      <td>1.75</td>\n",
       "      <td>2.0</td>\n",
       "      <td>2.0</td>\n",
       "      <td>60.0</td>\n",
       "      <td>21.213203</td>\n",
       "      <td>45.0</td>\n",
       "      <td>52.5</td>\n",
       "      <td>60.0</td>\n",
       "      <td>67.5</td>\n",
       "      <td>75.0</td>\n",
       "    </tr>\n",
       "  </tbody>\n",
       "</table>\n",
       "<p>3 rows × 40 columns</p>\n",
       "</div>"
      ],
      "text/plain": [
       "        Student ID                                                      \\\n",
       "             count    mean       std     min      25%     50%      75%   \n",
       "Section                                                                  \n",
       "A              2.0  1002.0  1.414214  1001.0  1001.50  1002.0  1002.50   \n",
       "B              1.0  1002.0       NaN  1002.0  1002.00  1002.0  1002.00   \n",
       "C              2.0  1004.5  0.707107  1004.0  1004.25  1004.5  1004.75   \n",
       "\n",
       "                Class        ... Social Media usage hrs      Percentage        \\\n",
       "            max count  mean  ...                    75%  max      count  mean   \n",
       "Section                      ...                                                \n",
       "A        1003.0   2.0  10.0  ...                   2.75  3.0        2.0  55.0   \n",
       "B        1002.0   1.0  10.0  ...                   2.00  2.0        1.0  80.0   \n",
       "C        1005.0   2.0  11.5  ...                   1.75  2.0        2.0  60.0   \n",
       "\n",
       "                                                  \n",
       "               std   min   25%   50%   75%   max  \n",
       "Section                                           \n",
       "A         7.071068  50.0  52.5  55.0  57.5  60.0  \n",
       "B              NaN  80.0  80.0  80.0  80.0  80.0  \n",
       "C        21.213203  45.0  52.5  60.0  67.5  75.0  \n",
       "\n",
       "[3 rows x 40 columns]"
      ]
     },
     "execution_count": 61,
     "metadata": {},
     "output_type": "execute_result"
    }
   ],
   "source": [
    "gr2.describe()"
   ]
  },
  {
   "cell_type": "code",
   "execution_count": null,
   "id": "f88bce56",
   "metadata": {},
   "outputs": [],
   "source": []
  }
 ],
 "metadata": {
  "kernelspec": {
   "display_name": "Python 3 (ipykernel)",
   "language": "python",
   "name": "python3"
  },
  "language_info": {
   "codemirror_mode": {
    "name": "ipython",
    "version": 3
   },
   "file_extension": ".py",
   "mimetype": "text/x-python",
   "name": "python",
   "nbconvert_exporter": "python",
   "pygments_lexer": "ipython3",
   "version": "3.9.13"
  }
 },
 "nbformat": 4,
 "nbformat_minor": 5
}
